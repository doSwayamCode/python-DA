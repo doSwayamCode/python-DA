{
 "cells": [
  {
   "cell_type": "code",
   "execution_count": 2,
   "id": "ebdf67e4-b87e-4dad-8b0b-6f92d63a1282",
   "metadata": {},
   "outputs": [],
   "source": [
    "#for loops\n",
    "integers = [1,2,3,4,5]"
   ]
  },
  {
   "cell_type": "code",
   "execution_count": 3,
   "id": "5adb92a3-d852-41f2-8309-b77f47e43c3d",
   "metadata": {},
   "outputs": [
    {
     "name": "stdout",
     "output_type": "stream",
     "text": [
      "1\n",
      "2\n",
      "3\n",
      "4\n",
      "5\n"
     ]
    }
   ],
   "source": [
    "for number in integers:\n",
    "    print(number)"
   ]
  },
  {
   "cell_type": "code",
   "execution_count": 4,
   "id": "6f72a35d-f014-4569-b0c4-b0b5a5629361",
   "metadata": {},
   "outputs": [
    {
     "name": "stdout",
     "output_type": "stream",
     "text": [
      "yup\n",
      "yup\n",
      "yup\n",
      "yup\n",
      "yup\n"
     ]
    }
   ],
   "source": [
    "for number in integers:\n",
    "    print(\"yup\")"
   ]
  },
  {
   "cell_type": "code",
   "execution_count": 5,
   "id": "dc424c36-0502-4f30-b012-91b24fa37ad3",
   "metadata": {},
   "outputs": [
    {
     "name": "stdout",
     "output_type": "stream",
     "text": [
      "2\n",
      "4\n",
      "6\n",
      "8\n",
      "10\n"
     ]
    }
   ],
   "source": [
    "for Jelly in integers:\n",
    "    print(Jelly + Jelly)"
   ]
  },
  {
   "cell_type": "code",
   "execution_count": 6,
   "id": "8bbc888c-a805-488d-871f-52701682d105",
   "metadata": {},
   "outputs": [],
   "source": [
    "ice_cream_dict = {'name' : 'Swayam', 'weekly intake' :5, 'fav ice cream': ['Vanilla', 'Choclate']}"
   ]
  },
  {
   "cell_type": "code",
   "execution_count": 7,
   "id": "8354474c-b7a8-4d68-a94a-69093763c9bb",
   "metadata": {},
   "outputs": [
    {
     "name": "stdout",
     "output_type": "stream",
     "text": [
      "Swayam\n",
      "5\n",
      "['Vanilla', 'Choclate']\n"
     ]
    }
   ],
   "source": [
    "for cream in ice_cream_dict.values():\n",
    "    print(cream)"
   ]
  },
  {
   "cell_type": "code",
   "execution_count": 8,
   "id": "0d08882a-d915-431c-b167-a1769c332cc1",
   "metadata": {},
   "outputs": [
    {
     "name": "stdout",
     "output_type": "stream",
     "text": [
      "name -> Swayam\n",
      "weekly intake -> 5\n",
      "fav ice cream -> ['Vanilla', 'Choclate']\n"
     ]
    }
   ],
   "source": [
    "for key, value in ice_cream_dict.items():\n",
    "    print(key, '->', value)"
   ]
  },
  {
   "cell_type": "code",
   "execution_count": 9,
   "id": "d8a7e92d-16df-4f6d-9b6a-4431115423ac",
   "metadata": {},
   "outputs": [],
   "source": [
    "#nested loops\n",
    "flavours = ['Vanilla', 'Choclate', 'Cookie dough']\n",
    "toppings = ['Hot fudge', 'oreo', ' marshmallows']"
   ]
  },
  {
   "cell_type": "code",
   "execution_count": 10,
   "id": "47a06569-e26e-43aa-a896-f64466a63b10",
   "metadata": {},
   "outputs": [
    {
     "name": "stdout",
     "output_type": "stream",
     "text": [
      "Vanilla topped with Hot fudge\n",
      "Vanilla topped with oreo\n",
      "Vanilla topped with  marshmallows\n",
      "Choclate topped with Hot fudge\n",
      "Choclate topped with oreo\n",
      "Choclate topped with  marshmallows\n",
      "Cookie dough topped with Hot fudge\n",
      "Cookie dough topped with oreo\n",
      "Cookie dough topped with  marshmallows\n"
     ]
    }
   ],
   "source": [
    "for one in flavours:\n",
    "    for two in toppings:\n",
    "        print(one,'topped with', two)"
   ]
  },
  {
   "cell_type": "code",
   "execution_count": 11,
   "id": "064891f3-a4ec-4ff5-9444-db0fdc26546c",
   "metadata": {},
   "outputs": [
    {
     "name": "stdout",
     "output_type": "stream",
     "text": [
      "0\n",
      "1\n",
      "2\n",
      "3\n",
      "4\n"
     ]
    }
   ],
   "source": [
    "#while loops\n",
    "number =0\n",
    "\n",
    "while number <5:\n",
    "    print(number)\n",
    "    number = number + 1"
   ]
  },
  {
   "cell_type": "code",
   "execution_count": 12,
   "id": "c28a268a-46c8-4c3c-a54b-5841eeb4319c",
   "metadata": {},
   "outputs": [
    {
     "name": "stdout",
     "output_type": "stream",
     "text": [
      "0\n",
      "1\n",
      "2\n",
      "3\n"
     ]
    }
   ],
   "source": [
    "number =0\n",
    "\n",
    "while number <5:\n",
    "    print(number)\n",
    "    if number == 3:\n",
    "        break\n",
    "    number = number + 1"
   ]
  },
  {
   "cell_type": "code",
   "execution_count": 13,
   "id": "628b0c40-95d7-462b-b905-baa49523d7fb",
   "metadata": {},
   "outputs": [
    {
     "name": "stdout",
     "output_type": "stream",
     "text": [
      "0\n",
      "1\n",
      "2\n",
      "3\n",
      "4\n",
      "no longer <5\n"
     ]
    }
   ],
   "source": [
    "number =0\n",
    "\n",
    "while number <5:\n",
    "    print(number)\n",
    "    if number == 6:\n",
    "        break\n",
    "    number = number + 1\n",
    "else:\n",
    "    print('no longer <5')"
   ]
  },
  {
   "cell_type": "code",
   "execution_count": 15,
   "id": "85175d11-7de5-4b4a-a155-9f912cf33b83",
   "metadata": {},
   "outputs": [
    {
     "name": "stdout",
     "output_type": "stream",
     "text": [
      "1\n",
      "2\n",
      "4\n",
      "5\n",
      "no longer < 5\n"
     ]
    }
   ],
   "source": [
    "number =0\n",
    "\n",
    "while number <5:\n",
    "    number = number + 1\n",
    "    if number == 3:\n",
    "        continue\n",
    "    print(number)\n",
    "   \n",
    "else:\n",
    "    print('no longer < 5')"
   ]
  },
  {
   "cell_type": "code",
   "execution_count": 16,
   "id": "8ba22a75-d47d-4b80-b094-6c6af017696f",
   "metadata": {},
   "outputs": [],
   "source": [
    "#functions\n",
    "\n",
    "def first_function():\n",
    "    print('we did it')"
   ]
  },
  {
   "cell_type": "code",
   "execution_count": 18,
   "id": "7a06b64b-60f8-4b5e-b09e-8a668314f2c9",
   "metadata": {},
   "outputs": [
    {
     "name": "stdout",
     "output_type": "stream",
     "text": [
      "we did it\n"
     ]
    }
   ],
   "source": [
    "first_function()"
   ]
  },
  {
   "cell_type": "code",
   "execution_count": 19,
   "id": "9aa1fe5e-ad79-42f4-9914-ef70ee967c12",
   "metadata": {},
   "outputs": [],
   "source": [
    "def number_squared(number):\n",
    "    print(number**2)"
   ]
  },
  {
   "cell_type": "code",
   "execution_count": 20,
   "id": "c9777272-fc12-47b9-8b2b-580dd013a532",
   "metadata": {},
   "outputs": [
    {
     "name": "stdout",
     "output_type": "stream",
     "text": [
      "25\n"
     ]
    }
   ],
   "source": [
    "number_squared(5)"
   ]
  },
  {
   "cell_type": "code",
   "execution_count": 21,
   "id": "e4420bab-0442-4cc0-ad01-ee76aa0ad012",
   "metadata": {},
   "outputs": [],
   "source": [
    "def number_squared_cust(number, power):\n",
    "    print(number**power)"
   ]
  },
  {
   "cell_type": "code",
   "execution_count": 22,
   "id": "c80f32b3-2581-46c0-ac43-65d65b7f2ec4",
   "metadata": {},
   "outputs": [
    {
     "name": "stdout",
     "output_type": "stream",
     "text": [
      "125\n"
     ]
    }
   ],
   "source": [
    "number_squared_cust(5,3)"
   ]
  },
  {
   "cell_type": "code",
   "execution_count": 23,
   "id": "4b38773f-dc96-4be2-a204-8519df16b9fc",
   "metadata": {},
   "outputs": [],
   "source": [
    "def number_args(*number): #arbitrary argument\n",
    "    print(number[0]*number[1])"
   ]
  },
  {
   "cell_type": "code",
   "execution_count": 24,
   "id": "1a960272-a1b7-4df7-b0b0-5f604045526b",
   "metadata": {},
   "outputs": [
    {
     "name": "stdout",
     "output_type": "stream",
     "text": [
      "30\n"
     ]
    }
   ],
   "source": [
    "number_args(5,6,1,2,8)"
   ]
  },
  {
   "cell_type": "code",
   "execution_count": 25,
   "id": "15dfcefd-1258-40b5-91db-b422f201760f",
   "metadata": {},
   "outputs": [],
   "source": [
    "args_tuple =(5,6,1,2,8)\n",
    "\n",
    "def number_args(*number):\n",
    "    print(number[0]*number[1])"
   ]
  },
  {
   "cell_type": "code",
   "execution_count": 27,
   "id": "8a2cc98c-2a1e-42fe-abc1-ccb1fa96fba0",
   "metadata": {},
   "outputs": [
    {
     "name": "stdout",
     "output_type": "stream",
     "text": [
      "30\n"
     ]
    }
   ],
   "source": [
    "number_args(*args_tuple)"
   ]
  },
  {
   "cell_type": "code",
   "execution_count": 28,
   "id": "41d5c5e4-cc78-453e-a143-ad8bafd7707e",
   "metadata": {},
   "outputs": [],
   "source": [
    "def number_squared_cust(number, power):\n",
    "    print(number**power)"
   ]
  },
  {
   "cell_type": "code",
   "execution_count": 29,
   "id": "4ddc2e3c-3831-49ad-b9f2-316dad8dca49",
   "metadata": {},
   "outputs": [
    {
     "name": "stdout",
     "output_type": "stream",
     "text": [
      "243\n"
     ]
    }
   ],
   "source": [
    "number_squared_cust(power=5, number=3)"
   ]
  },
  {
   "cell_type": "code",
   "execution_count": 31,
   "id": "a939fa65-5e25-4179-8ca3-ae70cb77846c",
   "metadata": {},
   "outputs": [],
   "source": [
    "def number_kwarg(**number):\n",
    "    print('my number is: ' + number['integer'] + 'my other number' number['integer2'])"
   ]
  },
  {
   "cell_type": "code",
   "execution_count": 32,
   "id": "b696608d-24b9-4914-b38a-5136c14ddbd1",
   "metadata": {},
   "outputs": [
    {
     "name": "stdout",
     "output_type": "stream",
     "text": [
      "my number is: 2309\n"
     ]
    }
   ],
   "source": [
    "number_kwarg(integer = '2309')"
   ]
  },
  {
   "cell_type": "code",
   "execution_count": null,
   "id": "d3afd8c9-b3d7-498e-9b60-f9b036a773e1",
   "metadata": {},
   "outputs": [],
   "source": []
  }
 ],
 "metadata": {
  "kernelspec": {
   "display_name": "Python [conda env:base] *",
   "language": "python",
   "name": "conda-base-py"
  },
  "language_info": {
   "codemirror_mode": {
    "name": "ipython",
    "version": 3
   },
   "file_extension": ".py",
   "mimetype": "text/x-python",
   "name": "python",
   "nbconvert_exporter": "python",
   "pygments_lexer": "ipython3",
   "version": "3.12.7"
  }
 },
 "nbformat": 4,
 "nbformat_minor": 5
}
