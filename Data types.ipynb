{
 "cells": [
  {
   "cell_type": "code",
   "execution_count": 1,
   "id": "476948c3-af3d-4e54-b927-ef9be7ec7ac7",
   "metadata": {},
   "outputs": [],
   "source": [
    "# Data types"
   ]
  },
  {
   "cell_type": "code",
   "execution_count": 2,
   "id": "0f645236-42fc-4242-95c3-f036d23642f1",
   "metadata": {},
   "outputs": [
    {
     "data": {
      "text/plain": [
       "int"
      ]
     },
     "execution_count": 2,
     "metadata": {},
     "output_type": "execute_result"
    }
   ],
   "source": [
    "type(-12+100)"
   ]
  },
  {
   "cell_type": "code",
   "execution_count": 3,
   "id": "d8e094b9-0c80-434c-8ca7-33658361f526",
   "metadata": {},
   "outputs": [
    {
     "data": {
      "text/plain": [
       "float"
      ]
     },
     "execution_count": 3,
     "metadata": {},
     "output_type": "execute_result"
    }
   ],
   "source": [
    "type(12+ 10.25)"
   ]
  },
  {
   "cell_type": "code",
   "execution_count": 4,
   "id": "fde45d4d-2bb3-4c7d-8818-404616f5ebf4",
   "metadata": {},
   "outputs": [
    {
     "data": {
      "text/plain": [
       "complex"
      ]
     },
     "execution_count": 4,
     "metadata": {},
     "output_type": "execute_result"
    }
   ],
   "source": [
    "type(12 + 3j) #only 'J' works!"
   ]
  },
  {
   "cell_type": "code",
   "execution_count": 6,
   "id": "827c5d67-32d4-425c-b510-f4298b71341a",
   "metadata": {},
   "outputs": [
    {
     "data": {
      "text/plain": [
       "bool"
      ]
     },
     "execution_count": 6,
     "metadata": {},
     "output_type": "execute_result"
    }
   ],
   "source": [
    "#boolean\n",
    "\n",
    "type(True)"
   ]
  },
  {
   "cell_type": "code",
   "execution_count": 7,
   "id": "3f861364-d3f3-4095-ac84-666f6a787a4b",
   "metadata": {},
   "outputs": [
    {
     "data": {
      "text/plain": [
       "bool"
      ]
     },
     "execution_count": 7,
     "metadata": {},
     "output_type": "execute_result"
    }
   ],
   "source": [
    "type(1>5)"
   ]
  },
  {
   "cell_type": "code",
   "execution_count": 8,
   "id": "9713da1c-86b9-4eb2-8322-ff8797c9d316",
   "metadata": {},
   "outputs": [
    {
     "data": {
      "text/plain": [
       "False"
      ]
     },
     "execution_count": 8,
     "metadata": {},
     "output_type": "execute_result"
    }
   ],
   "source": [
    "1>5"
   ]
  },
  {
   "cell_type": "code",
   "execution_count": 9,
   "id": "5c001ba6-5d7a-49a7-a272-4b704b82b406",
   "metadata": {},
   "outputs": [
    {
     "data": {
      "text/plain": [
       "True"
      ]
     },
     "execution_count": 9,
     "metadata": {},
     "output_type": "execute_result"
    }
   ],
   "source": [
    "1 == 1"
   ]
  },
  {
   "cell_type": "code",
   "execution_count": 10,
   "id": "471c9fe7-43c1-48cc-b220-1d008a65c383",
   "metadata": {},
   "outputs": [
    {
     "data": {
      "text/plain": [
       "'Single quote'"
      ]
     },
     "execution_count": 10,
     "metadata": {},
     "output_type": "execute_result"
    }
   ],
   "source": [
    "#String\n",
    "\n",
    "'Single quote'"
   ]
  },
  {
   "cell_type": "code",
   "execution_count": 11,
   "id": "e3456287-5cb5-4b66-bbfa-7c13393a1cf8",
   "metadata": {},
   "outputs": [
    {
     "data": {
      "text/plain": [
       "'Double quote'"
      ]
     },
     "execution_count": 11,
     "metadata": {},
     "output_type": "execute_result"
    }
   ],
   "source": [
    "\"Double quote\""
   ]
  },
  {
   "cell_type": "code",
   "execution_count": 14,
   "id": "d932489a-59cc-4197-8628-d0001f3d12be",
   "metadata": {},
   "outputs": [],
   "source": [
    "multiline= \"\"\"\n",
    "hi myself swayam gupta, final year \n",
    "undergraduate student at \n",
    "Delhi Technological University\n",
    "\"\"\""
   ]
  },
  {
   "cell_type": "code",
   "execution_count": 15,
   "id": "8d00d2e5-11bf-4a9f-b530-714c3a1b6f50",
   "metadata": {},
   "outputs": [
    {
     "name": "stdout",
     "output_type": "stream",
     "text": [
      "\n",
      "hi myself swayam gupta, final year \n",
      "undergraduate student at \n",
      "Delhi Technological University\n",
      "\n"
     ]
    }
   ],
   "source": [
    "print(multiline)"
   ]
  },
  {
   "cell_type": "code",
   "execution_count": 16,
   "id": "2a23eca4-b5b2-49fe-8501-807e07921797",
   "metadata": {},
   "outputs": [
    {
     "data": {
      "text/plain": [
       "'I have always wanted Ice cream'"
      ]
     },
     "execution_count": 16,
     "metadata": {},
     "output_type": "execute_result"
    }
   ],
   "source": [
    "\"I have always wanted Ice cream\""
   ]
  },
  {
   "cell_type": "code",
   "execution_count": 18,
   "id": "1266e11a-9803-475b-b682-a1c563bda98b",
   "metadata": {},
   "outputs": [
    {
     "data": {
      "text/plain": [
       "str"
      ]
     },
     "execution_count": 18,
     "metadata": {},
     "output_type": "execute_result"
    }
   ],
   "source": [
    "type(multiline)"
   ]
  },
  {
   "cell_type": "code",
   "execution_count": 20,
   "id": "3ab703b5-4db5-466f-9d4e-b4de28642f7f",
   "metadata": {},
   "outputs": [],
   "source": [
    "a= 'hello world!'"
   ]
  },
  {
   "cell_type": "code",
   "execution_count": 21,
   "id": "6742ff2a-bc08-43e5-94cb-fdc72aaca693",
   "metadata": {},
   "outputs": [
    {
     "name": "stdout",
     "output_type": "stream",
     "text": [
      "hello\n"
     ]
    }
   ],
   "source": [
    "print(a[:5])"
   ]
  },
  {
   "cell_type": "code",
   "execution_count": 23,
   "id": "753a829d-4fcc-4b31-8965-5feb48861778",
   "metadata": {},
   "outputs": [
    {
     "name": "stdout",
     "output_type": "stream",
     "text": [
      "w\n"
     ]
    }
   ],
   "source": [
    "print(a[6])"
   ]
  },
  {
   "cell_type": "code",
   "execution_count": 25,
   "id": "e4f84818-5e0b-4b21-a491-7affaeaadb59",
   "metadata": {},
   "outputs": [
    {
     "name": "stdout",
     "output_type": "stream",
     "text": [
      "r\n"
     ]
    }
   ],
   "source": [
    "print(a[-4]) #peeche side se indexing krega"
   ]
  },
  {
   "cell_type": "code",
   "execution_count": 26,
   "id": "0e5d219e-4162-4b45-8000-855008b92543",
   "metadata": {},
   "outputs": [
    {
     "name": "stdout",
     "output_type": "stream",
     "text": [
      "llo\n"
     ]
    }
   ],
   "source": [
    "print(a[2:5])"
   ]
  },
  {
   "cell_type": "code",
   "execution_count": 27,
   "id": "51bbf7b4-ae04-46d3-b8f9-89c794cde164",
   "metadata": {},
   "outputs": [
    {
     "data": {
      "text/plain": [
       "'hello world!hello world!hello world!'"
      ]
     },
     "execution_count": 27,
     "metadata": {},
     "output_type": "execute_result"
    }
   ],
   "source": [
    "a*3"
   ]
  },
  {
   "cell_type": "code",
   "execution_count": 28,
   "id": "4b19641a-7e0d-47ac-b973-33925e587cd2",
   "metadata": {},
   "outputs": [
    {
     "data": {
      "text/plain": [
       "'hello world!hello world!'"
      ]
     },
     "execution_count": 28,
     "metadata": {},
     "output_type": "execute_result"
    }
   ],
   "source": [
    "a + a"
   ]
  },
  {
   "cell_type": "code",
   "execution_count": 32,
   "id": "028be65f-0ece-4560-b51c-2b5c6d67d030",
   "metadata": {},
   "outputs": [
    {
     "data": {
      "text/plain": [
       "[1, 2, 3]"
      ]
     },
     "execution_count": 32,
     "metadata": {},
     "output_type": "execute_result"
    }
   ],
   "source": [
    "# list- datatype independent\n",
    "\n",
    "[1, 2, 3] # 0-based indexing"
   ]
  },
  {
   "cell_type": "code",
   "execution_count": 33,
   "id": "75791d84-d87e-484d-bc86-43a4fec7664d",
   "metadata": {},
   "outputs": [
    {
     "data": {
      "text/plain": [
       "['Vanilla', 3, ['Scoops', 'Spoon'], True]"
      ]
     },
     "execution_count": 33,
     "metadata": {},
     "output_type": "execute_result"
    }
   ],
   "source": [
    "['Vanilla', 3, ['Scoops', 'Spoon'], True]"
   ]
  },
  {
   "cell_type": "code",
   "execution_count": 34,
   "id": "68424873-93a9-4b24-9abc-98e5dc48edc9",
   "metadata": {},
   "outputs": [
    {
     "data": {
      "text/plain": [
       "['Vanilla', 'Butterscotch', 'Choclate', 'Strawberry', 'Salted Caramel']"
      ]
     },
     "execution_count": 34,
     "metadata": {},
     "output_type": "execute_result"
    }
   ],
   "source": [
    "ice_cream = ['Vanilla', 'Butterscotch', 'Choclate', 'Strawberry']\n",
    "\n",
    "ice_cream.append('Salted Caramel')\n",
    "\n",
    "ice_cream"
   ]
  },
  {
   "cell_type": "code",
   "execution_count": 35,
   "id": "b22bff71-ee5a-4a7c-b4f1-30a1e6ece456",
   "metadata": {},
   "outputs": [
    {
     "data": {
      "text/plain": [
       "['Butter Pecan', 'Butterscotch', 'Choclate', 'Strawberry', 'Salted Caramel']"
      ]
     },
     "execution_count": 35,
     "metadata": {},
     "output_type": "execute_result"
    }
   ],
   "source": [
    "ice_cream[0] = 'Butter Pecan' \n",
    "\n",
    "ice_cream"
   ]
  },
  {
   "cell_type": "code",
   "execution_count": 36,
   "id": "b3e77d7e-7b06-4f08-a534-2a530cb6c6d2",
   "metadata": {},
   "outputs": [],
   "source": [
    "nest_list = ['Vanilla', 3, ['Scoops', 'Spoon'], True]"
   ]
  },
  {
   "cell_type": "code",
   "execution_count": 37,
   "id": "a61f02b1-76f9-4b96-9ae8-5e0f268a50cd",
   "metadata": {},
   "outputs": [
    {
     "data": {
      "text/plain": [
       "['Scoops', 'Spoon']"
      ]
     },
     "execution_count": 37,
     "metadata": {},
     "output_type": "execute_result"
    }
   ],
   "source": [
    "nest_list[2]"
   ]
  },
  {
   "cell_type": "code",
   "execution_count": 38,
   "id": "ce21d017-3470-4aeb-a5f3-2397f9045414",
   "metadata": {},
   "outputs": [
    {
     "data": {
      "text/plain": [
       "'Spoon'"
      ]
     },
     "execution_count": 38,
     "metadata": {},
     "output_type": "execute_result"
    }
   ],
   "source": [
    "nest_list[2][1]"
   ]
  },
  {
   "cell_type": "code",
   "execution_count": 39,
   "id": "bbbadaf8-d9d7-410c-b0c9-ac01ea300f94",
   "metadata": {},
   "outputs": [],
   "source": [
    "#Tuple\n",
    "\n",
    "tuple_scoops= (1,2,3,2,1)"
   ]
  },
  {
   "cell_type": "code",
   "execution_count": 40,
   "id": "eadf856a-3015-445f-a6ee-f483bca4a2b2",
   "metadata": {},
   "outputs": [
    {
     "data": {
      "text/plain": [
       "tuple"
      ]
     },
     "execution_count": 40,
     "metadata": {},
     "output_type": "execute_result"
    }
   ],
   "source": [
    "type(tuple_scoops)"
   ]
  },
  {
   "cell_type": "code",
   "execution_count": 42,
   "id": "3922995a-74fe-455d-bb09-72a592fa1810",
   "metadata": {},
   "outputs": [
    {
     "data": {
      "text/plain": [
       "1"
      ]
     },
     "execution_count": 42,
     "metadata": {},
     "output_type": "execute_result"
    }
   ],
   "source": [
    "tuple_scoops[0] #yaha append function nahi chalta"
   ]
  },
  {
   "cell_type": "code",
   "execution_count": 43,
   "id": "974ff410-b20a-46fa-ad3e-2386a66733cf",
   "metadata": {},
   "outputs": [],
   "source": [
    "# Sets\n",
    "\n",
    "daily_pints = {1,2,3}"
   ]
  },
  {
   "cell_type": "code",
   "execution_count": 44,
   "id": "2cc8067e-50e4-4a3b-abe9-16df8d70ee9e",
   "metadata": {},
   "outputs": [
    {
     "name": "stdout",
     "output_type": "stream",
     "text": [
      "{1, 2, 3}\n"
     ]
    }
   ],
   "source": [
    "print(daily_pints)"
   ]
  },
  {
   "cell_type": "code",
   "execution_count": 48,
   "id": "41546119-c28f-4170-ac26-4c687c98ebed",
   "metadata": {},
   "outputs": [],
   "source": [
    "daily_pints_log= {1,2,3,4,5,6,7,8,9,0,1,5} #only unique value gets printed"
   ]
  },
  {
   "cell_type": "code",
   "execution_count": 49,
   "id": "c906086c-8a6d-453e-8144-ed021a44dbf4",
   "metadata": {},
   "outputs": [
    {
     "name": "stdout",
     "output_type": "stream",
     "text": [
      "{0, 1, 2, 3, 4, 5, 6, 7, 8, 9}\n"
     ]
    }
   ],
   "source": [
    "print(daily_pints_log)"
   ]
  },
  {
   "cell_type": "code",
   "execution_count": 50,
   "id": "63b17f79-045e-4f47-bdb6-06688f5d9445",
   "metadata": {},
   "outputs": [],
   "source": [
    "wife_daily_pint_log = {1,2,3,99,45,33,2,1,0,0}"
   ]
  },
  {
   "cell_type": "code",
   "execution_count": 52,
   "id": "2fd00005-e437-465e-a773-edaa1e25cdbd",
   "metadata": {},
   "outputs": [
    {
     "name": "stdout",
     "output_type": "stream",
     "text": [
      "{0, 1, 2, 3, 4, 5, 6, 7, 8, 9, 99, 33, 45}\n"
     ]
    }
   ],
   "source": [
    "print(daily_pints_log | wife_daily_pint_log) #only unique value"
   ]
  },
  {
   "cell_type": "code",
   "execution_count": 54,
   "id": "cb908205-c1da-4efb-a64d-96fe2db86aba",
   "metadata": {},
   "outputs": [
    {
     "name": "stdout",
     "output_type": "stream",
     "text": [
      "{0, 1, 2, 3}\n"
     ]
    }
   ],
   "source": [
    "print(daily_pints_log & wife_daily_pint_log) #show the ones which are in both set"
   ]
  },
  {
   "cell_type": "code",
   "execution_count": 55,
   "id": "0af94262-9661-4bde-8131-12e8213a1d6d",
   "metadata": {},
   "outputs": [
    {
     "name": "stdout",
     "output_type": "stream",
     "text": [
      "{4, 5, 6, 7, 8, 9}\n"
     ]
    }
   ],
   "source": [
    "print(daily_pints_log - wife_daily_pint_log)"
   ]
  },
  {
   "cell_type": "code",
   "execution_count": 57,
   "id": "a8bedf68-26cb-4b19-a875-e47aaa2f7595",
   "metadata": {},
   "outputs": [],
   "source": [
    "# dictionaries\n",
    "#key-value pair\n",
    "\n",
    "dict_create= {'name' : 'Swayam', 'weekly intake' : 5, 'favourite ice cream' : ['MCC', 'Choclate']}"
   ]
  },
  {
   "cell_type": "code",
   "execution_count": 58,
   "id": "2a2873a1-74bf-4d04-ad36-2db13f3ca864",
   "metadata": {},
   "outputs": [
    {
     "data": {
      "text/plain": [
       "dict"
      ]
     },
     "execution_count": 58,
     "metadata": {},
     "output_type": "execute_result"
    }
   ],
   "source": [
    "type(dict_create)"
   ]
  },
  {
   "cell_type": "code",
   "execution_count": 60,
   "id": "4336e392-356b-4f40-a38c-a9bbd69f38ee",
   "metadata": {},
   "outputs": [
    {
     "data": {
      "text/plain": [
       "dict_values(['Swayam', 5, ['MCC', 'Choclate']])"
      ]
     },
     "execution_count": 60,
     "metadata": {},
     "output_type": "execute_result"
    }
   ],
   "source": [
    "dict_create.values()"
   ]
  },
  {
   "cell_type": "code",
   "execution_count": 61,
   "id": "fc550461-223d-430e-9657-b0f7bd6c659b",
   "metadata": {},
   "outputs": [
    {
     "data": {
      "text/plain": [
       "dict_keys(['name', 'weekly intake', 'favourite ice cream'])"
      ]
     },
     "execution_count": 61,
     "metadata": {},
     "output_type": "execute_result"
    }
   ],
   "source": [
    "dict_create.keys()"
   ]
  },
  {
   "cell_type": "code",
   "execution_count": 62,
   "id": "af1e2f86-d0c6-42f0-9322-aeadb818b044",
   "metadata": {},
   "outputs": [
    {
     "data": {
      "text/plain": [
       "dict_items([('name', 'Swayam'), ('weekly intake', 5), ('favourite ice cream', ['MCC', 'Choclate'])])"
      ]
     },
     "execution_count": 62,
     "metadata": {},
     "output_type": "execute_result"
    }
   ],
   "source": [
    "dict_create.items()"
   ]
  },
  {
   "cell_type": "code",
   "execution_count": 64,
   "id": "7bb4317f-fdc4-4983-a11e-f5726ba7858c",
   "metadata": {},
   "outputs": [],
   "source": [
    "dict_create['name'] = 'Python kumar'"
   ]
  },
  {
   "cell_type": "code",
   "execution_count": 65,
   "id": "128c14d0-3d7c-40ea-aa30-fa0c3d6df230",
   "metadata": {},
   "outputs": [
    {
     "name": "stdout",
     "output_type": "stream",
     "text": [
      "{'name': 'Python kumar', 'weekly intake': 5, 'favourite ice cream': ['MCC', 'Choclate']}\n"
     ]
    }
   ],
   "source": [
    "print(dict_create)"
   ]
  },
  {
   "cell_type": "code",
   "execution_count": 67,
   "id": "a3b18b21-0139-422c-b2e9-bdbd8a2ea53d",
   "metadata": {},
   "outputs": [
    {
     "name": "stdout",
     "output_type": "stream",
     "text": [
      "{'name': 'Python kumar', 'weekly intake': 5, 'favourite ice cream': ['MCC', 'Choclate'], 'weight': 300}\n"
     ]
    }
   ],
   "source": [
    "dict_create.update({'name': 'Python kumar', 'weekly intake': 5, 'weight': 300})\n",
    "\n",
    "print(dict_create)"
   ]
  },
  {
   "cell_type": "code",
   "execution_count": 68,
   "id": "126baf92-642b-416e-85f2-7f8e72219252",
   "metadata": {},
   "outputs": [
    {
     "name": "stdout",
     "output_type": "stream",
     "text": [
      "{'name': 'Python kumar', 'weekly intake': 5, 'favourite ice cream': ['MCC', 'Choclate']}\n"
     ]
    }
   ],
   "source": [
    "del dict_create['weight']\n",
    "\n",
    "print(dict_create)"
   ]
  },
  {
   "cell_type": "code",
   "execution_count": null,
   "id": "0bd519b8-0fb8-4ddc-aedc-a5f72fbff32d",
   "metadata": {},
   "outputs": [],
   "source": []
  }
 ],
 "metadata": {
  "kernelspec": {
   "display_name": "Python [conda env:base] *",
   "language": "python",
   "name": "conda-base-py"
  },
  "language_info": {
   "codemirror_mode": {
    "name": "ipython",
    "version": 3
   },
   "file_extension": ".py",
   "mimetype": "text/x-python",
   "name": "python",
   "nbconvert_exporter": "python",
   "pygments_lexer": "ipython3",
   "version": "3.12.7"
  }
 },
 "nbformat": 4,
 "nbformat_minor": 5
}
