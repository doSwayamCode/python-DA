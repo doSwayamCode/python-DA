{
 "cells": [
  {
   "cell_type": "code",
   "execution_count": 1,
   "id": "7a6d27f0-ef5d-467b-a346-5de283045e10",
   "metadata": {},
   "outputs": [],
   "source": [
    "# Variables in Python"
   ]
  },
  {
   "cell_type": "code",
   "execution_count": 2,
   "id": "1b9bf9c1-7a4e-47ea-9930-af3e219e86c0",
   "metadata": {},
   "outputs": [
    {
     "name": "stdout",
     "output_type": "stream",
     "text": [
      "22\n"
     ]
    }
   ],
   "source": [
    "x = 22\n",
    "print(x)"
   ]
  },
  {
   "cell_type": "code",
   "execution_count": 3,
   "id": "2ae6c547-185a-4ff5-9a64-63b2ee4dcc31",
   "metadata": {},
   "outputs": [
    {
     "data": {
      "text/plain": [
       "int"
      ]
     },
     "execution_count": 3,
     "metadata": {},
     "output_type": "execute_result"
    }
   ],
   "source": [
    "type(x)"
   ]
  },
  {
   "cell_type": "code",
   "execution_count": 4,
   "id": "c03e4169-4f8c-441c-b76e-573d858d365a",
   "metadata": {},
   "outputs": [
    {
     "name": "stdout",
     "output_type": "stream",
     "text": [
      "Sonu ke Titu ki Sweety\n"
     ]
    }
   ],
   "source": [
    "y = 'Sonu ke Titu ki Sweety'\n",
    "\n",
    "print(y)"
   ]
  },
  {
   "cell_type": "code",
   "execution_count": 5,
   "id": "fbce21ca-db8f-4e9e-a6d0-f5001aa488c0",
   "metadata": {},
   "outputs": [
    {
     "name": "stdout",
     "output_type": "stream",
     "text": [
      "Choclate\n"
     ]
    }
   ],
   "source": [
    "y = 'Choclate'\n",
    "\n",
    "print(y)"
   ]
  },
  {
   "cell_type": "code",
   "execution_count": 6,
   "id": "6d6b7f19-e43a-4c0a-be8a-e14ff9e06343",
   "metadata": {},
   "outputs": [],
   "source": [
    "Y = 'Hello ji'"
   ]
  },
  {
   "cell_type": "code",
   "execution_count": 7,
   "id": "1613ad5a-fc12-46f7-9464-263c5f26f651",
   "metadata": {},
   "outputs": [
    {
     "name": "stdout",
     "output_type": "stream",
     "text": [
      "Hello ji\n"
     ]
    }
   ],
   "source": [
    "print(Y)"
   ]
  },
  {
   "cell_type": "code",
   "execution_count": 8,
   "id": "c0ebdc65-574c-4de2-bf93-7398f849be98",
   "metadata": {},
   "outputs": [
    {
     "name": "stdout",
     "output_type": "stream",
     "text": [
      "Choclate\n",
      "Vanilla\n",
      "Rocky road\n"
     ]
    }
   ],
   "source": [
    "x,y,z = 'Choclate', 'Vanilla', 'Rocky road'\n",
    "\n",
    "print(x)\n",
    "print(y)\n",
    "print(z)"
   ]
  },
  {
   "cell_type": "code",
   "execution_count": 9,
   "id": "88922be2-96b3-459c-aa31-cd65edd82d4c",
   "metadata": {},
   "outputs": [
    {
     "name": "stdout",
     "output_type": "stream",
     "text": [
      "root user\n",
      "root user\n",
      "root user\n"
     ]
    }
   ],
   "source": [
    "x=y=z='root user'\n",
    "\n",
    "print(x)\n",
    "print(y)\n",
    "print(z)"
   ]
  },
  {
   "cell_type": "code",
   "execution_count": 10,
   "id": "a69e6269-8244-4d5d-aaae-8bb68f3af279",
   "metadata": {},
   "outputs": [
    {
     "name": "stdout",
     "output_type": "stream",
     "text": [
      "Choclate\n",
      "Vanilla\n",
      "Rocky road\n"
     ]
    }
   ],
   "source": [
    "#Lists\n",
    "ice_cream =['Choclate', 'Vanilla', 'Rocky road']\n",
    "x,y,z= ice_cream\n",
    "\n",
    "print(x)\n",
    "print(y)\n",
    "print(z)"
   ]
  },
  {
   "cell_type": "code",
   "execution_count": 11,
   "id": "defc1710-7638-491a-84a3-99c1efa21d7e",
   "metadata": {},
   "outputs": [
    {
     "name": "stdout",
     "output_type": "stream",
     "text": [
      "Ice Cream 2\n"
     ]
    }
   ],
   "source": [
    "x= 'Ice Cream'\n",
    "y=2\n",
    "\n",
    "print(x,y)"
   ]
  },
  {
   "cell_type": "code",
   "execution_count": null,
   "id": "20e0a8d3-f3d5-4931-8ffd-701d2a666235",
   "metadata": {},
   "outputs": [],
   "source": []
  }
 ],
 "metadata": {
  "kernelspec": {
   "display_name": "Python [conda env:base] *",
   "language": "python",
   "name": "conda-base-py"
  },
  "language_info": {
   "codemirror_mode": {
    "name": "ipython",
    "version": 3
   },
   "file_extension": ".py",
   "mimetype": "text/x-python",
   "name": "python",
   "nbconvert_exporter": "python",
   "pygments_lexer": "ipython3",
   "version": "3.12.7"
  }
 },
 "nbformat": 4,
 "nbformat_minor": 5
}
